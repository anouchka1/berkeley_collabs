{
 "metadata": {
  "name": ""
 },
 "nbformat": 3,
 "nbformat_minor": 0,
 "worksheets": [
  {
   "cells": [
    {
     "cell_type": "heading",
     "level": 3,
     "metadata": {},
     "source": [
      "Get out affiliations out of the XML data out of PubMed. Parse out affiliations that have UC Berkeley."
     ]
    },
    {
     "cell_type": "code",
     "collapsed": false,
     "input": [
      "from BeautifulSoup import BeautifulSoup\n",
      "articles = []\n",
      "for year in range(1994, 2015):\n",
      "    text = open(\"pubmed%d.xml\" % year).read()\n",
      "    parsed_xml= BeautifulSoup(text)\n",
      "    year_articles = parsed_xml.findAll(\"article\")\n",
      "    for article in year_articles:\n",
      "        articles.append(article)\n",
      "len(articles)\n",
      "affs = [a.findAll(\"affiliation\") for a in articles]\n",
      "text_affs = [list([a.getString() for a in aff]) for aff in affs]\n",
      "berk_affs = [[a for a in aff if \"University of California\" in a and \"Berkeley\" in a] for aff in text_affs]"
     ],
     "language": "python",
     "metadata": {},
     "outputs": [],
     "prompt_number": 1
    },
    {
     "cell_type": "heading",
     "level": 3,
     "metadata": {},
     "source": [
      "Write result to a tab-separated file."
     ]
    },
    {
     "cell_type": "code",
     "collapsed": false,
     "input": [
      "content = '\\n'.join(['\\t'.join(a) for a in berk_affs])\n",
      "# Clean unicode\n",
      "import unicodedata\n",
      "ucontent = unicodedata.normalize('NFKD', content).encode('ascii','ignore')\n",
      "with open(\"aff_table.tsv\", \"w\") as f:\n",
      "    f.write(ucontent)"
     ],
     "language": "python",
     "metadata": {},
     "outputs": [],
     "prompt_number": 172
    },
    {
     "cell_type": "heading",
     "level": 3,
     "metadata": {},
     "source": [
      "...Lots of manual cleanup..."
     ]
    },
    {
     "cell_type": "heading",
     "level": 3,
     "metadata": {},
     "source": [
      "Get cleaned up affiliations from Excel table."
     ]
    },
    {
     "cell_type": "code",
     "collapsed": false,
     "input": [
      "import xlrd\n",
      "codebook = xlrd.open_workbook(\"aff_table_collabs2.xlsx\")\n",
      "codesheet = codebook.sheet_by_index(0)\n",
      "len(codesheet.row(0))\n",
      "clean_affs = []\n",
      "for ri in range(codesheet.nrows):\n",
      "    curaff = []\n",
      "    for cellnum in range(len(codesheet.row(ri))):\n",
      "        try:\n",
      "            if len(codesheet.row(ri)[cellnum].value)>0:\n",
      "                curaff.append(str(codesheet.row(ri)[cellnum].value))\n",
      "        except:\n",
      "            pass\n",
      "    clean_affs.append(curaff)"
     ],
     "language": "python",
     "metadata": {},
     "outputs": [],
     "prompt_number": 6
    },
    {
     "cell_type": "code",
     "collapsed": false,
     "input": [
      "len(clean_affs)"
     ],
     "language": "python",
     "metadata": {},
     "outputs": [
      {
       "metadata": {},
       "output_type": "pyout",
       "prompt_number": 7,
       "text": [
        "611"
       ]
      }
     ],
     "prompt_number": 7
    },
    {
     "cell_type": "heading",
     "level": 3,
     "metadata": {},
     "source": [
      "Get out all departments and form cooccurrence matrix"
     ]
    },
    {
     "cell_type": "code",
     "collapsed": false,
     "input": [
      "from matplotlib.cbook import flatten\n",
      "clean_affs_keys = list(set(flatten(clean_affs)))\n",
      "import numpy as np\n",
      "dept_matrix = np.zeros((len(clean_affs_keys),len(clean_affs_keys)))\n",
      "import csv\n",
      "with open('depts2.csv', 'w') as csvfile:\n",
      "    wr = csv.writer(csvfile, delimiter='\\t',\n",
      "                            quotechar='|', quoting=csv.QUOTE_MINIMAL)\n",
      "    wr.writerow([\"name\"])\n",
      "    for a in clean_affs_keys:\n",
      "        wr.writerow([a])\n",
      "import itertools\n",
      "for aff in clean_affs:\n",
      "    inds = []\n",
      "    for dept in aff:\n",
      "        inds.append(clean_affs_keys.index(dept))\n",
      "    combos = list(itertools.combinations(inds, 2))\n",
      "    for c in combos:\n",
      "        dept_matrix[c] += 1\n",
      "dept_matrix = (dept_matrix+dept_matrix.T)/2\n",
      "import json\n",
      "json.dump(dept_matrix.tolist(), open(\"dept_matrix2.json\", \"w\"))"
     ],
     "language": "python",
     "metadata": {},
     "outputs": [],
     "prompt_number": 55
    },
    {
     "cell_type": "heading",
     "level": 3,
     "metadata": {},
     "source": [
      "...Lots more manual cleanup..."
     ]
    },
    {
     "cell_type": "heading",
     "level": 3,
     "metadata": {},
     "source": [
      "Re-exporting data matrix after rearranging the departments"
     ]
    },
    {
     "cell_type": "code",
     "collapsed": false,
     "input": [
      "import itertools\n",
      "import numpy as np\n",
      "import xlrd\n",
      "import json\n",
      "import csv\n",
      "\n",
      "# Import affs\n",
      "codebook = xlrd.open_workbook(\"aff_table_collabs2.xlsx\")\n",
      "codesheet = codebook.sheet_by_index(0)\n",
      "clean_affs = []\n",
      "for ri in range(codesheet.nrows):\n",
      "    curaff = []\n",
      "    for cellnum in range(len(codesheet.row(ri))):\n",
      "        try:\n",
      "            if len(codesheet.row(ri)[cellnum].value)>0:\n",
      "                curaff.append(str(codesheet.row(ri)[cellnum].value))\n",
      "        except:\n",
      "            pass\n",
      "    clean_affs.append(curaff)\n",
      "# Import aff list\n",
      "text = open(\"dept_list_ordered.txt\").read()\n",
      "clean_affs_keys = text.split(\"\\r\")\n",
      "# Make matrix\n",
      "dept_matrix = np.zeros((len(clean_affs_keys),len(clean_affs_keys)))\n",
      "for aff in clean_affs:\n",
      "    inds = []\n",
      "    for dept in aff:\n",
      "        if dept in clean_affs_keys:\n",
      "            inds.append(clean_affs_keys.index(dept))\n",
      "    combos = list(itertools.combinations(inds, 2))\n",
      "    for c in combos:\n",
      "        dept_matrix[c] += 1\n",
      "dept_matrix = (dept_matrix+dept_matrix.T)/2\n",
      "json.dump(dept_matrix.tolist(), open(\"dept_matrix3.json\", \"w\"))"
     ],
     "language": "python",
     "metadata": {},
     "outputs": [],
     "prompt_number": 81
    },
    {
     "cell_type": "code",
     "collapsed": false,
     "input": [],
     "language": "python",
     "metadata": {},
     "outputs": []
    }
   ],
   "metadata": {}
  }
 ]
}